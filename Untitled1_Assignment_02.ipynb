{
  "nbformat": 4,
  "nbformat_minor": 0,
  "metadata": {
    "colab": {
      "name": "Untitled1 Assignment-02.ipynb",
      "provenance": [],
      "authorship_tag": "ABX9TyPN3qWDs24tfmg1uSXTjT44",
      "include_colab_link": true
    },
    "kernelspec": {
      "name": "python3",
      "display_name": "Python 3"
    },
    "language_info": {
      "name": "python"
    }
  },
  "cells": [
    {
      "cell_type": "markdown",
      "metadata": {
        "id": "view-in-github",
        "colab_type": "text"
      },
      "source": [
        "<a href=\"https://colab.research.google.com/github/mimi-45/Introduction-to-Python/blob/main/Untitled1_Assignment_02.ipynb\" target=\"_parent\"><img src=\"https://colab.research.google.com/assets/colab-badge.svg\" alt=\"Open In Colab\"/></a>"
      ]
    },
    {
      "cell_type": "code",
      "metadata": {
        "colab": {
          "base_uri": "https://localhost:8080/"
        },
        "id": "Ee-gnbPOqD_r",
        "outputId": "55faddcb-5d25-42f8-c804-4ccd1b6b45db"
      },
      "source": [
        "#Problem01\n",
        "l=[5,4,3,2,10]\n",
        "l1= l[3]\n",
        "print((l1) ,type(l1))\n"
      ],
      "execution_count": 30,
      "outputs": [
        {
          "output_type": "stream",
          "text": [
            "2 <class 'int'>\n"
          ],
          "name": "stdout"
        }
      ]
    },
    {
      "cell_type": "code",
      "metadata": {
        "colab": {
          "base_uri": "https://localhost:8080/"
        },
        "id": "TCPG4v6Rt-RO",
        "outputId": "2dde95cf-eae8-4038-d2b4-99a632f55579"
      },
      "source": [
        "#Problem02\n",
        "\n",
        "a=3\n",
        "b=5\n",
        "print(a+b)\n",
        "print(a-b)\n",
        "print(a*b)\n",
        "print(a/b)\n"
      ],
      "execution_count": 5,
      "outputs": [
        {
          "output_type": "stream",
          "text": [
            "8\n",
            "-2\n",
            "15\n",
            "0.6\n"
          ],
          "name": "stdout"
        }
      ]
    },
    {
      "cell_type": "code",
      "metadata": {
        "colab": {
          "base_uri": "https://localhost:8080/"
        },
        "id": "kvFdtKAU4hvi",
        "outputId": "047faa38-5691-43e5-c62f-bb5ecacc4ed8"
      },
      "source": [
        "#problem03\n",
        "\n",
        "a=3\n",
        "b=5\n",
        "x=a/b\n",
        "var=x\n",
        "var_int= int(var)\n",
        "print((var) , type (var))\n",
        "print((var_int) ,type(var_int))\n",
        "\n"
      ],
      "execution_count": 31,
      "outputs": [
        {
          "output_type": "stream",
          "text": [
            "0.6 <class 'float'>\n",
            "0 <class 'int'>\n"
          ],
          "name": "stdout"
        }
      ]
    },
    {
      "cell_type": "code",
      "metadata": {
        "colab": {
          "base_uri": "https://localhost:8080/"
        },
        "id": "xUBrDuvMurhi",
        "outputId": "1da2066c-7dcd-4a00-b232-cea6ba9c9321"
      },
      "source": [
        "#Problem04\n",
        "color_list= [\"Red\", \"Green\" , \"White\", \"Black\"]\n",
        "print(color_list[0])\n",
        "print(color_list[3])\n",
        "\n",
        "\n"
      ],
      "execution_count": 15,
      "outputs": [
        {
          "output_type": "stream",
          "text": [
            "Red\n",
            "Black\n"
          ],
          "name": "stdout"
        }
      ]
    },
    {
      "cell_type": "code",
      "metadata": {
        "colab": {
          "base_uri": "https://localhost:8080/"
        },
        "id": "eAj1tGBDzBgs",
        "outputId": "fcee0703-dc2e-40b0-b7b5-13c8601dedaf"
      },
      "source": [
        "#Problem05\n",
        "\n",
        "multi= \"\"\" a string that You have \"don't\" to escape\n",
        "                         This\n",
        "                 is a..........multi line\n",
        "                heredoc------>example\n",
        "\"\"\"\n",
        "print(multi)                "
      ],
      "execution_count": 18,
      "outputs": [
        {
          "output_type": "stream",
          "text": [
            " a string that You have \"don't\" to escape\n",
            "                         This\n",
            "                 is a..........multi line\n",
            "                heredoc------>example\n",
            "\n"
          ],
          "name": "stdout"
        }
      ]
    },
    {
      "cell_type": "code",
      "metadata": {
        "colab": {
          "base_uri": "https://localhost:8080/"
        },
        "id": "tKvGmpaa0INB",
        "outputId": "cc949874-f012-4d07-daff-b58bcabd8875"
      },
      "source": [
        "#Problem6\n",
        "\n",
        "b= float(input(\"Enter the base\"))\n",
        "h=float(input(\"Enetr the height\"))\n",
        "x=0.5\n",
        "c=x*b*h\n",
        "print((c) ,type(c))"
      ],
      "execution_count": 28,
      "outputs": [
        {
          "output_type": "stream",
          "text": [
            "Enter the base5\n",
            "Enetr the height10\n",
            "25.0 <class 'float'>\n"
          ],
          "name": "stdout"
        }
      ]
    },
    {
      "cell_type": "code",
      "metadata": {
        "colab": {
          "base_uri": "https://localhost:8080/"
        },
        "id": "nqhZCiqD32zd",
        "outputId": "547b0e59-0d5c-4ae2-f4d9-48ac3b44fb3a"
      },
      "source": [
        "#problem07\n",
        "\n",
        "single= \"Display my details in three different lines\"\n",
        "multi= \"\"\" \n",
        "           Name= Afsana Mimi\n",
        "           Age= 20 years\n",
        "          Address= Dhaka, Bangladesh\n",
        "\"\"\"\n",
        "print(single)\n",
        "print(multi)\n"
      ],
      "execution_count": 34,
      "outputs": [
        {
          "output_type": "stream",
          "text": [
            "Display my details in three different lines\n",
            " \n",
            "           Name= Afsana Mimi\n",
            "           Age= 20 years\n",
            "          Address= Dhaka, Bangladesh\n",
            "\n"
          ],
          "name": "stdout"
        }
      ]
    },
    {
      "cell_type": "code",
      "metadata": {
        "id": "cQh2bSe16PLL"
      },
      "source": [
        "\n",
        "#Problem08"
      ],
      "execution_count": null,
      "outputs": []
    },
    {
      "cell_type": "code",
      "metadata": {
        "id": "-KD6Unqo6TZN"
      },
      "source": [
        "\n",
        "\n",
        "\n",
        "#Problem09\n"
      ],
      "execution_count": null,
      "outputs": []
    },
    {
      "cell_type": "code",
      "metadata": {
        "colab": {
          "base_uri": "https://localhost:8080/"
        },
        "id": "JqXMw2uj6i-X",
        "outputId": "a35d1ab3-74a2-4242-fcd9-8fbb8f79e18e"
      },
      "source": [
        "\n",
        "\n",
        "#Problem10\n",
        "celc=sius= float(input(\"Enter the data=\"))\n",
        "fahrenheit=(celsius*1.8)+32\n",
        "print((fahrenheit) ,type(fahrenheit))"
      ],
      "execution_count": 46,
      "outputs": [
        {
          "output_type": "stream",
          "text": [
            "Enter the data=45\n",
            "113.0 <class 'float'>\n"
          ],
          "name": "stdout"
        }
      ]
    }
  ]
}